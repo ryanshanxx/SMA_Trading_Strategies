{
 "cells": [
  {
   "cell_type": "markdown",
   "metadata": {},
   "source": [
    "# A. Process data and fill in missing values"
   ]
  },
  {
   "cell_type": "code",
   "execution_count": 8,
   "metadata": {
    "scrolled": true
   },
   "outputs": [
    {
     "name": "stdout",
     "output_type": "stream",
     "text": [
      "Total rows: 1793\n",
      "['date', 'A', 'AMZN', 'CAT', 'GDP', 'MSFT', 'NFLX', 'TSLA', 'XOM']\n"
     ]
    }
   ],
   "source": [
    "import pandas as pd\n",
    "import numpy as np\n",
    "data = pd.read_csv(\"adj_close_hist.csv\")\n",
    "print(\"Total rows: {0}\".format(len(data)))\n",
    "print(list(data))"
   ]
  },
  {
   "cell_type": "code",
   "execution_count": 9,
   "metadata": {},
   "outputs": [],
   "source": [
    "data.fillna(0)\n",
    "filled_data = data.fillna(method='pad')"
   ]
  },
  {
   "cell_type": "code",
   "execution_count": 10,
   "metadata": {},
   "outputs": [
    {
     "data": {
      "text/plain": [
       "array([['2011-01-03', 28.572239933249, 184.22, ..., 25.487142857142853,\n",
       "        26.62, 60.415733100366],\n",
       "       ['2011-01-04', 28.306166065676, 185.01, ..., 25.91, 26.67,\n",
       "        60.699375039805005],\n",
       "       ['2011-01-05', 28.244764403928, 187.42, ..., 25.67571428571428,\n",
       "        26.83, 60.537293931554004],\n",
       "       ...,\n",
       "       ['2018-02-14', 69.7, 1451.05, ..., 266.0, 322.31, 76.46],\n",
       "       ['2018-02-15', 72.02, 1461.76, ..., 280.27, 334.065, 76.21],\n",
       "       ['2018-02-16', 71.97, 1448.69, ..., 278.52, 335.49, 76.54]],\n",
       "      dtype=object)"
      ]
     },
     "execution_count": 10,
     "metadata": {},
     "output_type": "execute_result"
    }
   ],
   "source": [
    "arr_data = np.array(filled_data)\n",
    "arr_data"
   ]
  },
  {
   "cell_type": "markdown",
   "metadata": {},
   "source": [
    "# B. Implement trading strategies"
   ]
  },
  {
   "cell_type": "code",
   "execution_count": 11,
   "metadata": {
    "scrolled": true
   },
   "outputs": [],
   "source": [
    "#calculating SMA\n",
    "def SMA(x,n,col):\n",
    "    avgs = []\n",
    "    for i in range(len(x)-n+1):\n",
    "            avgs.append(sum(x[i:i+n,col])/n)\n",
    "    return avgs\n",
    "\n",
    "#print(len(SMA(arr_data,5,1)))\n",
    "\n",
    "#initial position: long\n",
    "#getting position cash flows\n",
    "def position_cf(x,n,N,col):\n",
    "    position = []\n",
    "    SMA_n = SMA(x,n,col)[N-n:]\n",
    "    SMA_N = SMA(x,N,col)\n",
    "\n",
    "    #comparing shor-term and long-term SMA\n",
    "    for i in range(len(x)-N+1):\n",
    "        if SMA_n[i] > SMA_N[i]:\n",
    "            position.append(-x[i+N-1,col])\n",
    "        if SMA_n[i] < SMA_N[i]:\n",
    "            position.append(x[i+N-1,col])\n",
    "        elif SMA_n[i] == SMA_N[i]:\n",
    "            position.append(position[i-1])\n",
    "    return position"
   ]
  },
  {
   "cell_type": "code",
   "execution_count": 12,
   "metadata": {},
   "outputs": [],
   "source": [
    "#getting transaction cash flows\n",
    "def transaction_cf(x,n,N,col):\n",
    "    tran=[]\n",
    "    p = position_cf(arr_data,n,N,col)\n",
    "    tran.append(p[0])\n",
    "    #Buy and hold until SMA_n < SMA_N and then sell it  \n",
    "    for j in range(0,len(p)):\n",
    "        if ((p[j]*p[j-1])<0) & (p[j-1]<0):\n",
    "            tran.append(p[j])\n",
    "        if ((p[j]*p[j-1])<0) & (p[j-1]>0):\n",
    "            tran.append(p[j])\n",
    "    return tran"
   ]
  },
  {
   "cell_type": "markdown",
   "metadata": {},
   "source": [
    "# C. Comapre performance statistics for the trading strategies"
   ]
  },
  {
   "cell_type": "markdown",
   "metadata": {},
   "source": [
    "# a. Average position turn-over per annum"
   ]
  },
  {
   "cell_type": "code",
   "execution_count": 6,
   "metadata": {},
   "outputs": [],
   "source": [
    "import datetime as dt\n",
    "from datetime import timedelta\n",
    "\n",
    "def avg_turnover_per_ann(x,n,N,col):\n",
    "    date = []\n",
    "    nyears = 0\n",
    "    tran_num = 0\n",
    "    for i in arr_data[:,0]:\n",
    "        date.append(dt.datetime.strptime(i,'%m/%d/%Y'))\n",
    "        \n",
    "    y = ((date[-1]-date[0])/365)\n",
    "    nyears = y.total_seconds() / timedelta(days=1).total_seconds()\n",
    "    tran_num = len(transaction_cf(x,n,N,col))/2\n",
    "    return tran_num/nyears"
   ]
  },
  {
   "cell_type": "code",
   "execution_count": 7,
   "metadata": {},
   "outputs": [
    {
     "data": {
      "text/plain": [
       "33.46885813150353"
      ]
     },
     "execution_count": 7,
     "metadata": {},
     "output_type": "execute_result"
    }
   ],
   "source": [
    "avg_turnover_per_ann(arr_data,1,5,1)"
   ]
  },
  {
   "cell_type": "markdown",
   "metadata": {},
   "source": [
    "# b. Average position holding period"
   ]
  },
  {
   "cell_type": "code",
   "execution_count": 13,
   "metadata": {},
   "outputs": [
    {
     "data": {
      "text/plain": [
       "6.20125786163522"
      ]
     },
     "execution_count": 13,
     "metadata": {},
     "output_type": "execute_result"
    }
   ],
   "source": [
    "def avg_hp(x,n,N,col):\n",
    "    trandate_index=[]\n",
    "    p = position_cf(x,n,N,col)\n",
    "    trandate_index=[]\n",
    "    trandate=[]\n",
    "    hp_sum=0\n",
    "    trandate_index.append(N-1)\n",
    "    date = []\n",
    "    \n",
    "    for i in arr_data[:,0]:\n",
    "        date.append(dt.datetime.strptime(i,'%m/%d/%Y'))\n",
    "        \n",
    "    #Buy and hold until SMA_n < SMA_N and then sell it  \n",
    "    for j in range(0,len(p)):\n",
    "        if ((p[j]*p[j-1])<0) & (p[j-1]<0):\n",
    "            trandate_index.append(j+N-1)\n",
    "        if ((p[j]*p[j-1])<0) & (p[j-1]>0):\n",
    "            trandate_index.append(j+N-1)\n",
    "            \n",
    "    for i in range(0,len(trandate_index)-1,2):\n",
    "        hp_sum += (date[trandate_index[i+1]]-date[trandate_index[i]]).days        \n",
    "\n",
    "    return hp_sum/(len(transaction_cf(x,n,N,col))/2)\n",
    "\n",
    "avg_hp(arr_data,1,5,1)"
   ]
  },
  {
   "cell_type": "markdown",
   "metadata": {},
   "source": [
    "# c. Average annualized return"
   ]
  },
  {
   "cell_type": "code",
   "execution_count": 22,
   "metadata": {
    "scrolled": true
   },
   "outputs": [
    {
     "data": {
      "text/plain": [
       "0.02038624040820869"
      ]
     },
     "execution_count": 22,
     "metadata": {},
     "output_type": "execute_result"
    }
   ],
   "source": [
    "def avg_ann_ret(x,n,N,col,principal):\n",
    "    shares = 0\n",
    "    profit = 0\n",
    "    rets = []\n",
    "    total_ret = 1\n",
    "    date = []\n",
    "    nyears = 0\n",
    "    \n",
    "    for i in arr_data[:,0]:\n",
    "        date.append(dt.datetime.strptime(i,'%m/%d/%Y'))\n",
    "\n",
    "    y = ((date[-1]-date[0])/365)\n",
    "    nyears = y.total_seconds() / timedelta(days=1).total_seconds()\n",
    "       \n",
    "    a = transaction_cf(x,n,N,col)\n",
    "    for i in range(0,len(a)-1,2):\n",
    "        shares = principal/(abs(a[i]))\n",
    "        profit = (a[i+1] + a[i])*shares\n",
    "        rets.append(profit/principal)\n",
    "        principal += profit\n",
    "\n",
    "    for i in range(len(rets)):\n",
    "        total_ret *= (rets[i]+1)\n",
    "    \n",
    "    return total_ret**(1/nyears)-1\n",
    "\n",
    "avg_ann_ret(arr_data,1,5,1,10000)"
   ]
  },
  {
   "cell_type": "markdown",
   "metadata": {},
   "source": [
    "# d. Average annualized return volatility"
   ]
  },
  {
   "cell_type": "code",
   "execution_count": 15,
   "metadata": {},
   "outputs": [
    {
     "data": {
      "text/plain": [
       "0.00012569067029363396"
      ]
     },
     "execution_count": 15,
     "metadata": {},
     "output_type": "execute_result"
    }
   ],
   "source": [
    "def avg_ann_ret_vol(x,n,N,col,principal):\n",
    "    shares = 0\n",
    "    profit = 0\n",
    "    rets = []\n",
    "    a = transaction_cf(x,n,N,col)\n",
    "    date = []\n",
    "    nyears = 0\n",
    "    \n",
    "    for i in arr_data[:,0]:\n",
    "        date.append(dt.datetime.strptime(i,'%m/%d/%Y'))\n",
    "\n",
    "    y = ((date[-1]-date[0])/365)\n",
    "    nyears = y.total_seconds() / timedelta(days=1).total_seconds()\n",
    "    \n",
    "    for i in range(0,len(a)-1,2):\n",
    "        shares = principal/(abs(a[i]))\n",
    "        profit = (a[i+1] + a[i])*shares\n",
    "        rets.append(profit/principal)\n",
    "        principal += profit\n",
    "        \n",
    "    return np.var(rets)/nyears\n",
    "\n",
    "avg_ann_ret_vol(arr_data,1,5,1,10000)"
   ]
  },
  {
   "cell_type": "markdown",
   "metadata": {},
   "source": [
    "# Summary: Outputs for all stocks"
   ]
  },
  {
   "cell_type": "code",
   "execution_count": 28,
   "metadata": {},
   "outputs": [
    {
     "name": "stdout",
     "output_type": "stream",
     "text": [
      "==================== A ====================\n",
      "Short-term average position turn-over per annum: 33.46885813150353\n",
      "Medium-term average position turn-over per annum: 2.8767781622466346\n",
      "Long-term average position turn-over per annum: 0.9121491733952743 \n",
      "\n",
      "Short-term average position holding period: 6.20125786163522\n",
      "Medium-term average position holding period: 75.3170731707317\n",
      "Long-term average position holding period: 151.23076923076923 \n",
      "\n",
      "Short-term average annualized return: 0.02038624040820869\n",
      "Medium-term average annualized return: 0.08213912760527031\n",
      "Long-term average annualized return: 0.13488182442902796 \n",
      "\n",
      "Short-term average annualized return volatility: 0.00012569067029363396\n",
      "Medium-term average annualized return volatility: 0.0016807310036209768\n",
      "Long-term average annualized return volatility: 0.08238262637738744 \n",
      "\n",
      "==================== AMZN ====================\n",
      "Short-term average position turn-over per annum: 32.90753556326028\n",
      "Medium-term average position turn-over per annum: 2.5961168781250117\n",
      "Long-term average position turn-over per annum: 0.49115724721284004 \n",
      "\n",
      "Short-term average position holding period: 6.221748400852879\n",
      "Medium-term average position holding period: 89.51351351351352\n",
      "Long-term average position holding period: 340.57142857142856 \n",
      "\n",
      "Short-term average annualized return: 0.28860779960717964\n",
      "Medium-term average annualized return: 0.32508755947497603\n",
      "Long-term average annualized return: 0.05943837974631738 \n",
      "\n",
      "Short-term average annualized return volatility: 0.0026111662466721925\n",
      "Medium-term average annualized return volatility: 0.03189957359849352\n",
      "Long-term average annualized return volatility: 0.01740636993440935 \n",
      "\n",
      "==================== CAT ====================\n",
      "Short-term average position turn-over per annum: 30.52191464822649\n",
      "Medium-term average position turn-over per annum: 3.017108804307446\n",
      "Long-term average position turn-over per annum: 0.6314878892736515 \n",
      "\n",
      "Short-term average position holding period: 6.377011494252874\n",
      "Medium-term average position holding period: 46.93023255813954\n",
      "Long-term average position holding period: 125.33333333333333 \n",
      "\n",
      "Short-term average annualized return: 0.344684007439255\n",
      "Medium-term average annualized return: (-0.14186735688000918+0.4048958609308696j)\n",
      "Long-term average annualized return: 0.13890991740170144 \n",
      "\n",
      "Short-term average annualized return volatility: 0.002702127635973141\n",
      "Medium-term average annualized return volatility: 0.025512795513617438\n",
      "Long-term average annualized return volatility: 0.11280663816755679 \n",
      "\n",
      "==================== GDP ====================\n",
      "Short-term average position turn-over per annum: 26.03133410228052\n",
      "Medium-term average position turn-over per annum: 2.034794309881766\n",
      "Long-term average position turn-over per annum: 0.7718185313344629 \n",
      "\n",
      "Short-term average position holding period: 5.53099730458221\n",
      "Medium-term average position holding period: 115.93103448275862\n",
      "Long-term average position holding period: 144.1818181818182 \n",
      "\n",
      "Short-term average annualized return: -0.018186718942657665\n",
      "Medium-term average annualized return: (0.028549827456440413+0.4853044237824673j)\n",
      "Long-term average annualized return: 0.05573868204066246 \n",
      "\n",
      "Short-term average annualized return volatility: 0.0010006007626581059\n",
      "Medium-term average annualized return volatility: 0.16941183341147448\n",
      "Long-term average annualized return volatility: 0.10683858805549425 \n",
      "\n",
      "==================== MSFT ====================\n",
      "Short-term average position turn-over per annum: 35.5738177624157\n",
      "Medium-term average position turn-over per annum: 2.736447520185823\n",
      "Long-term average position turn-over per annum: 0.6314878892736515 \n",
      "\n",
      "Short-term average position holding period: 5.7554240631163704\n",
      "Medium-term average position holding period: 61.48717948717949\n",
      "Long-term average position holding period: 321.55555555555554 \n",
      "\n",
      "Short-term average annualized return: 0.033119249839210774\n",
      "Medium-term average annualized return: 0.22416561341840024\n",
      "Long-term average annualized return: 0.2554421076678952 \n",
      "\n",
      "Short-term average annualized return volatility: 8.521695622853638e-05\n",
      "Medium-term average annualized return volatility: 0.028757974770151636\n",
      "Long-term average annualized return volatility: 0.08830890135965473 \n",
      "\n",
      "==================== NFLX ====================\n",
      "Short-term average position turn-over per annum: 32.62687427913866\n",
      "Medium-term average position turn-over per annum: 2.8767781622466346\n",
      "Long-term average position turn-over per annum: 0.49115724721284004 \n",
      "\n",
      "Short-term average position holding period: 6.150537634408602\n",
      "Medium-term average position holding period: 78.78048780487805\n",
      "Long-term average position holding period: 300.2857142857143 \n",
      "\n",
      "Short-term average annualized return: 0.5285864358974492\n",
      "Medium-term average annualized return: 0.18984527398481776\n",
      "Long-term average annualized return: 0.4803034438374223 \n",
      "\n",
      "Short-term average annualized return volatility: 0.003310533195308957\n",
      "Medium-term average annualized return volatility: 0.019232405462595536\n",
      "Long-term average annualized return volatility: 0.14252809068151126 \n",
      "\n",
      "==================== TSLA ====================\n",
      "Short-term average position turn-over per annum: 29.960592079983243\n",
      "Medium-term average position turn-over per annum: 2.8767781622466346\n",
      "Long-term average position turn-over per annum: 0.9121491733952743 \n",
      "\n",
      "Short-term average position holding period: 6.646370023419204\n",
      "Medium-term average position holding period: 69.60975609756098\n",
      "Long-term average position holding period: 97.23076923076923 \n",
      "\n",
      "Short-term average annualized return: 0.2251627124167639\n",
      "Medium-term average annualized return: 0.5270486903420246\n",
      "Long-term average annualized return: -0.13367022333839218 \n",
      "\n",
      "Short-term average annualized return volatility: 0.0005553953648463241\n",
      "Medium-term average annualized return volatility: 0.13420316005307215\n",
      "Long-term average annualized return volatility: 0.0008553665739818814 \n",
      "\n",
      "==================== XOM ====================\n",
      "Short-term average position turn-over per annum: 35.85447904653732\n",
      "Medium-term average position turn-over per annum: 3.5784313725506918\n",
      "Long-term average position turn-over per annum: 1.0524798154560857 \n",
      "\n",
      "Short-term average position holding period: 5.346379647749511\n",
      "Medium-term average position holding period: 44.98039215686274\n",
      "Long-term average position holding period: 172.8 \n",
      "\n",
      "Short-term average annualized return: -0.024602847426151153\n",
      "Medium-term average annualized return: (-0.1638651506160288+0.3945165615244957j)\n",
      "Long-term average annualized return: 0.18829965988135822 \n",
      "\n",
      "Short-term average annualized return volatility: 4.865012715523151e-05\n",
      "Medium-term average annualized return volatility: 0.021199450257618633\n",
      "Long-term average annualized return volatility: 0.06758226677401782 \n",
      "\n"
     ]
    }
   ],
   "source": [
    "for i in range(1,arr_data.shape[1]):\n",
    "    print('====================',list(data)[i],'====================')\n",
    "    print('Short-term average position turn-over per annum:',avg_turnover_per_ann(arr_data,1,5,i))\n",
    "    print('Medium-term average position turn-over per annum:',avg_turnover_per_ann(arr_data,15,50,i))\n",
    "    print('Long-term average position turn-over per annum:',avg_turnover_per_ann(arr_data,50,200,i),'\\n')\n",
    "    \n",
    "    print('Short-term average position holding period:',avg_hp(arr_data,1,5,i))\n",
    "    print('Medium-term average position holding period:',avg_hp(arr_data,15,50,i))\n",
    "    print('Long-term average position holding period:',avg_hp(arr_data,50,200,i),'\\n')\n",
    "    \n",
    "    print('Short-term average annualized return:',avg_ann_ret(arr_data,1,5,i,10000))\n",
    "    print('Medium-term average annualized return:',avg_ann_ret(arr_data,15,50,i,10000))\n",
    "    print('Long-term average annualized return:',avg_ann_ret(arr_data,50,200,i,10000),'\\n')\n",
    "    \n",
    "    print('Short-term average annualized return volatility:',avg_ann_ret_vol(arr_data,1,5,i,10000))\n",
    "    print('Medium-term average annualized return volatility:',avg_ann_ret_vol(arr_data,15,50,i,10000))\n",
    "    print('Long-term average annualized return volatility:',avg_ann_ret_vol(arr_data,50,200,i,10000),'\\n')"
   ]
  },
  {
   "cell_type": "code",
   "execution_count": null,
   "metadata": {},
   "outputs": [],
   "source": []
  },
  {
   "cell_type": "code",
   "execution_count": null,
   "metadata": {},
   "outputs": [],
   "source": []
  },
  {
   "cell_type": "code",
   "execution_count": null,
   "metadata": {},
   "outputs": [],
   "source": []
  }
 ],
 "metadata": {
  "kernelspec": {
   "display_name": "Python 3",
   "language": "python",
   "name": "python3"
  },
  "language_info": {
   "codemirror_mode": {
    "name": "ipython",
    "version": 3
   },
   "file_extension": ".py",
   "mimetype": "text/x-python",
   "name": "python",
   "nbconvert_exporter": "python",
   "pygments_lexer": "ipython3",
   "version": "3.7.3"
  }
 },
 "nbformat": 4,
 "nbformat_minor": 2
}
